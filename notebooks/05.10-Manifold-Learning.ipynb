{
 "cells": [
  {
   "cell_type": "markdown",
   "metadata": {},
   "source": [
    "<!--BOOK_INFORMATION-->\n",
    "<img align=\"left\" style=\"padding-right:10px;\" src=\"figures/PDSH-cover-small.png\">\n",
    "\n",
    "*This notebook contains an excerpt from the [Python Data Science Handbook](http://shop.oreilly.com/product/0636920034919.do) by Jake VanderPlas; the content is available [on GitHub](https://github.com/jakevdp/PythonDataScienceHandbook).*\n",
    "\n",
    "*The text is released under the [CC-BY-NC-ND license](https://creativecommons.org/licenses/by-nc-nd/3.0/us/legalcode), and code is released under the [MIT license](https://opensource.org/licenses/MIT). If you find this content useful, please consider supporting the work by [buying the book](http://shop.oreilly.com/product/0636920034919.do)!*"
   ]
  },
  {
   "cell_type": "markdown",
   "metadata": {},
   "source": [
    "<!--NAVIGATION-->\n",
    "< [In Depth: Principal Component Analysis](05.09-Principal-Component-Analysis.ipynb) | [Contents](Index.ipynb) | [In Depth: k-Means Clustering](05.11-K-Means.ipynb) >\n",
    "\n",
    "<a href=\"https://colab.research.google.com/github/jakevdp/PythonDataScienceHandbook/blob/master/notebooks/05.10-Manifold-Learning.ipynb\"><img align=\"left\" src=\"https://colab.research.google.com/assets/colab-badge.svg\" alt=\"Open in Colab\" title=\"Open and Execute in Google Colaboratory\"></a>\n"
   ]
  },
  {
   "cell_type": "markdown",
   "metadata": {},
   "source": [
    "# In-Depth: Manifold Learning"
   ]
  },
  {
   "cell_type": "markdown",
   "metadata": {},
   "source": [
    "We have seen how principal component analysis (PCA) can be used in the dimensionality reduction task—reducing the number of features of a dataset while maintaining the essential relationships between the points.\n",
    "While PCA is flexible, fast, and easily interpretable, it does not perform so well when there are *nonlinear* relationships within the data; we will see some examples of these below.\n",
    "\n",
    "To address this deficiency, we can turn to a class of methods known as *manifold learning*—a class of unsupervised estimators that seeks to describe datasets as low-dimensional manifolds embedded in high-dimensional spaces.\n",
    "When you think of a manifold, I'd suggest imagining a sheet of paper: this is a two-dimensional object that lives in our familiar three-dimensional world, and can be bent or rolled in that two dimensions.\n",
    "In the parlance of manifold learning, we can think of this sheet as a two-dimensional manifold embedded in three-dimensional space.\n",
    "\n",
    "Rotating, re-orienting, or stretching the piece of paper in three-dimensional space doesn't change the flat geometry of the paper: such operations are akin to linear embeddings.\n",
    "If you bend, curl, or crumple the paper, it is still a two-dimensional manifold, but the embedding into the three-dimensional space is no longer linear.\n",
    "Manifold learning algorithms would seek to learn about the fundamental two-dimensional nature of the paper, even as it is contorted to fill the three-dimensional space.\n",
    "\n",
    "Here we will demonstrate a number of manifold methods, going most deeply into a couple techniques: multidimensional scaling (MDS), locally linear embedding (LLE), and isometric mapping (IsoMap).\n",
    "\n",
    "We begin with the standard imports:"
   ]
  },
  {
   "cell_type": "code",
   "execution_count": null,
   "metadata": {
    "ExecuteTime": {
     "end_time": "2020-10-22T09:26:48.576371Z",
     "start_time": "2020-10-22T09:26:48.570772Z"
    }
   },
   "outputs": [],
   "source": [
    "%matplotlib inline\n",
    "import matplotlib.pyplot as plt\n",
    "import seaborn as sns; sns.set()\n",
    "import numpy as np"
   ]
  },
  {
   "cell_type": "markdown",
   "metadata": {},
   "source": [
    "## Manifold Learning: \"HELLO\"\n",
    "\n",
    "To make these concepts more clear, let's start by generating some two-dimensional data that we can use to define a manifold.\n",
    "Here is a function that will create data in the shape of the word \"HELLO\":"
   ]
  },
  {
   "cell_type": "code",
   "execution_count": null,
   "metadata": {
    "ExecuteTime": {
     "end_time": "2020-10-22T09:26:49.546339Z",
     "start_time": "2020-10-22T09:26:49.539543Z"
    }
   },
   "outputs": [],
   "source": [
    "import os\n",
    "from matplotlib.image import imread\n",
    "\n",
    "def make_fig(text='hello', path='../data'):\n",
    "    '''\n",
    "    creates and loads an image with a simple text and stores it under path\n",
    "    '''\n",
    "    \n",
    "    # Make a plot with \"HELLO\" text; save as PNG\n",
    "    fig, ax = plt.subplots(figsize=(4, 1))\n",
    "    fig.subplots_adjust(left=0, right=1, bottom=0, top=1)\n",
    "    ax.axis('off')\n",
    "    ax.text(0.5, 0.4, text, va='center', ha='center', weight='bold', size=85)\n",
    "    \n",
    "    # save the figure\n",
    "    fig_path = os.path.join(path, f'{text}.png')\n",
    "    fig.savefig(fig_path)\n",
    "    plt.close(fig)\n",
    "    \n",
    "    # reload the figure and transform the grid\n",
    "    pic_data = imread(fig_path)[::-1, :, 0].T\n",
    "    return pic_data\n",
    "\n",
    "\n",
    "def make_text(text='hello', N=1000, rseed=42, path='../data'):\n",
    "    '''\n",
    "    creates a text picture and draw random points from it\n",
    "    '''\n",
    "\n",
    "    # read the picture and transform coords as points\n",
    "    data = make_fig(text=text, path=path)\n",
    "    \n",
    "    \n",
    "    rng = np.random.RandomState(rseed)\n",
    "    # create 4 * N random points for excess points to choose from\n",
    "    X = rng.rand(4 * N, 2)\n",
    "    # scale and round x and y valuesand allocate to x and y-coordinates      \n",
    "    x, y = (X * data.shape).astype(int).T\n",
    "    # mask the points from the random point selection that are points in the picture\n",
    "    X = X[data[x, y] < 1]\n",
    "    X[:, 0] *= (data.shape[0] / data.shape[1])\n",
    "    X = X[:N]\n",
    "    return X[np.argsort(X[:, 0])]"
   ]
  },
  {
   "cell_type": "markdown",
   "metadata": {},
   "source": [
    "Let's call the function and visualize the resulting data:"
   ]
  },
  {
   "cell_type": "code",
   "execution_count": null,
   "metadata": {
    "ExecuteTime": {
     "end_time": "2020-10-22T09:26:50.878748Z",
     "start_time": "2020-10-22T09:26:50.674728Z"
    }
   },
   "outputs": [],
   "source": [
    "text = \"HELLO\"\n",
    "X = make_text(text, 1000)\n",
    "colorize = dict(c=X[:, 0], cmap=plt.cm.get_cmap('rainbow', len(text)))\n",
    "plt.scatter(X[:, 0], X[:, 1], **colorize)\n",
    "plt.axis('equal');"
   ]
  },
  {
   "cell_type": "markdown",
   "metadata": {},
   "source": [
    "Above function works by first selecting a (4-fold-) excess of random points from all possible coordinates in the picture and then to choose from that all points that actually have a color (value < 1) in the pic-data. \n",
    "I (Martin) created my own function which should scale better as it performs a random sampling on all the black points and that is it. See below:"
   ]
  },
  {
   "cell_type": "code",
   "execution_count": null,
   "metadata": {},
   "outputs": [],
   "source": [
    "def make_text2(text='hello', N=1000, rseed=42, path='../data'):\n",
    "    '''\n",
    "    my version of the text extractor\n",
    "    '''\n",
    "\n",
    "    # read the picture and transform coords as points\n",
    "    pic = make_fig(text=text, path=path)\n",
    "    \n",
    "    # get the dimensions\n",
    "    dx,dy = pic.shape\n",
    "    \n",
    "    # create an array of all coords as picture points (pp)\n",
    "    x, y = np.meshgrid(np.linspace(0,dy-1,dy), np.linspace(0,dx-1,dx))\n",
    "    pp = np.column_stack((y.ravel(),x.ravel()))\n",
    "    \n",
    "    # create a mask of points that are not white (value < 1) reshaped to the point list\n",
    "    mask = (pic < 1).reshape(dx*dy, )\n",
    "    painted = pp[mask,:]\n",
    "    \n",
    "    # get count of filled points\n",
    "    c = painted.shape[0]\n",
    "    # random pick elements by index\n",
    "    # allow for fraction\n",
    "    if N < 1:\n",
    "        N = int(c*N)\n",
    "    pick = np.sort(np.random.choice(np.linspace(0,c-1,c), N, replace=None).astype(int))\n",
    "    # subset by picked indices\n",
    "    select = painted[pick,:] / dy\n",
    "    # mask the points from the random point selection that are points in the picture\n",
    "\n",
    "    return select\n",
    "\n",
    "text = \"HELLO\"\n",
    "X = make_text2(text, 1000)\n",
    "colorize = dict(c=X[:, 0], cmap=plt.cm.get_cmap('rainbow', len(text)))\n",
    "plt.scatter(X[:, 0], X[:, 1], **colorize)\n",
    "plt.axis('equal');"
   ]
  },
  {
   "cell_type": "markdown",
   "metadata": {},
   "source": [
    "The output is two dimensional, and consists of points drawn in the shape of the word, \"HELLO\".\n",
    "This data form will help us to see visually what these algorithms are doing."
   ]
  },
  {
   "cell_type": "markdown",
   "metadata": {},
   "source": [
    "## Multidimensional Scaling (MDS)\n",
    "\n",
    "Looking at data like this, we can see that the particular choice of *x* and *y* values of the dataset are not the most fundamental description of the data: we can scale, shrink, or rotate the data, and the \"HELLO\" will still be apparent.\n",
    "For example, if we use a rotation matrix to rotate the data, the *x* and *y* values change, but the data is still fundamentally the same:"
   ]
  },
  {
   "cell_type": "code",
   "execution_count": null,
   "metadata": {
    "ExecuteTime": {
     "end_time": "2020-10-22T09:26:52.358029Z",
     "start_time": "2020-10-22T09:26:52.204661Z"
    }
   },
   "outputs": [],
   "source": [
    "def rotate(X, angle):\n",
    "    theta = np.deg2rad(angle)\n",
    "    R = [[np.cos(theta), np.sin(theta)],\n",
    "         [-np.sin(theta), np.cos(theta)]]\n",
    "    return np.dot(X, R)\n",
    "    \n",
    "X2 = rotate(X, 20) + 5\n",
    "plt.scatter(X2[:, 0], X2[:, 1], **colorize)\n",
    "plt.axis('equal');"
   ]
  },
  {
   "cell_type": "markdown",
   "metadata": {},
   "source": [
    "This tells us that the *x* and *y* values are not necessarily fundamental to the relationships in the data.\n",
    "What *is* fundamental, in this case, is the *distance* between each point and the other points in the dataset.\n",
    "A common way to represent this is to use a distance matrix: for $N$ points, we construct an $N \\times N$ array such that entry $(i, j)$ contains the distance between point $i$ and point $j$.\n",
    "Let's use Scikit-Learn's efficient ``pairwise_distances`` function to do this for our original data:"
   ]
  },
  {
   "cell_type": "code",
   "execution_count": null,
   "metadata": {
    "ExecuteTime": {
     "end_time": "2020-10-22T09:26:53.192761Z",
     "start_time": "2020-10-22T09:26:53.172199Z"
    }
   },
   "outputs": [],
   "source": [
    "from sklearn.metrics import pairwise_distances\n",
    "D = pairwise_distances(X)\n",
    "D.shape"
   ]
  },
  {
   "cell_type": "markdown",
   "metadata": {},
   "source": [
    "As promised, for our *N*=1,000 points, we obtain a 1000×1000 matrix, which can be visualized as shown here:"
   ]
  },
  {
   "cell_type": "code",
   "execution_count": null,
   "metadata": {
    "ExecuteTime": {
     "end_time": "2020-10-22T09:26:54.520301Z",
     "start_time": "2020-10-22T09:26:54.287156Z"
    }
   },
   "outputs": [],
   "source": [
    "plt.imshow(D, zorder=2, cmap='Blues', interpolation='nearest')\n",
    "plt.colorbar();"
   ]
  },
  {
   "cell_type": "markdown",
   "metadata": {},
   "source": [
    "If we similarly construct a distance matrix for our rotated and translated data, we see that it is the same:"
   ]
  },
  {
   "cell_type": "code",
   "execution_count": null,
   "metadata": {
    "ExecuteTime": {
     "end_time": "2020-10-22T09:26:55.498064Z",
     "start_time": "2020-10-22T09:26:55.456209Z"
    }
   },
   "outputs": [],
   "source": [
    "D2 = pairwise_distances(X2)\n",
    "np.allclose(D, D2)"
   ]
  },
  {
   "cell_type": "markdown",
   "metadata": {},
   "source": [
    "This distance matrix gives us a representation of our data that is invariant to rotations and translations, but the visualization of the matrix above is not entirely intuitive.\n",
    "In the representation shown in this figure, we have lost any visible sign of the interesting structure in the data: the \"HELLO\" that we saw before.\n",
    "\n",
    "Further, while computing this distance matrix from the (x, y) coordinates is straightforward, transforming the distances back into *x* and *y* coordinates is rather difficult.\n",
    "This is exactly what the multidimensional scaling algorithm aims to do: given a distance matrix between points, it recovers a $D$-dimensional coordinate representation of the data.\n",
    "Let's see how it works for our distance matrix, using the ``precomputed`` dissimilarity to specify that we are passing a distance matrix:"
   ]
  },
  {
   "cell_type": "code",
   "execution_count": null,
   "metadata": {
    "ExecuteTime": {
     "end_time": "2020-10-22T09:27:03.380188Z",
     "start_time": "2020-10-22T09:26:56.558510Z"
    }
   },
   "outputs": [],
   "source": [
    "from sklearn.manifold import MDS\n",
    "model = MDS(n_components=2, dissimilarity='precomputed', random_state=1)\n",
    "out = model.fit_transform(D)\n",
    "plt.scatter(out[:, 0], out[:, 1], **colorize)\n",
    "plt.axis('equal');"
   ]
  },
  {
   "cell_type": "markdown",
   "metadata": {},
   "source": [
    "The MDS algorithm recovers one of the possible two-dimensional coordinate representations of our data, using *only* the $N\\times N$ distance matrix describing the relationship between the data points."
   ]
  },
  {
   "cell_type": "markdown",
   "metadata": {},
   "source": [
    "## MDS as Manifold Learning\n",
    "\n",
    "The usefulness of this becomes more apparent when we consider the fact that distance matrices can be computed from data in *any* dimension.\n",
    "So, for example, instead of simply rotating the data in the two-dimensional plane, we can project it into three dimensions using the following function (essentially a three-dimensional generalization of the rotation matrix used earlier):"
   ]
  },
  {
   "cell_type": "code",
   "execution_count": null,
   "metadata": {
    "ExecuteTime": {
     "end_time": "2020-10-22T09:27:05.202363Z",
     "start_time": "2020-10-22T09:27:05.187282Z"
    }
   },
   "outputs": [],
   "source": [
    "def random_projection(X, dimension=3, rseed=42):\n",
    "    assert dimension >= X.shape[1]\n",
    "    rng = np.random.RandomState(rseed)\n",
    "    C = rng.randn(dimension, dimension)\n",
    "    e, V = np.linalg.eigh(np.dot(C, C.T))\n",
    "    return np.dot(X, V[:X.shape[1]])\n",
    "    \n",
    "X3 = random_projection(X, 3)\n",
    "X3.shape"
   ]
  },
  {
   "cell_type": "markdown",
   "metadata": {},
   "source": [
    "Let's visualize these points to see what we're working with:"
   ]
  },
  {
   "cell_type": "code",
   "execution_count": null,
   "metadata": {
    "ExecuteTime": {
     "end_time": "2020-10-22T09:27:43.914496Z",
     "start_time": "2020-10-22T09:27:43.867515Z"
    }
   },
   "outputs": [],
   "source": [
    "%matplotlib notebook\n",
    "from mpl_toolkits import mplot3d\n",
    "ax = plt.axes(projection='3d')\n",
    "_ = ax.scatter3D(X3[:, 0], X3[:, 1], X3[:, 2],\n",
    "             **colorize)\n",
    "ax.view_init(azim=70, elev=50)"
   ]
  },
  {
   "cell_type": "markdown",
   "metadata": {},
   "source": [
    "We can now ask the ``MDS`` estimator to input this three-dimensional data, compute the distance matrix, and then determine the optimal two-dimensional embedding for this distance matrix.\n",
    "The result recovers a representation of the original data:"
   ]
  },
  {
   "cell_type": "code",
   "execution_count": null,
   "metadata": {
    "ExecuteTime": {
     "end_time": "2020-10-22T09:27:55.753944Z",
     "start_time": "2020-10-22T09:27:48.770803Z"
    }
   },
   "outputs": [],
   "source": [
    "%matplotlib inline\n",
    "model = MDS(n_components=2, random_state=1)\n",
    "out3 = model.fit_transform(X3)\n",
    "plt.scatter(out3[:, 0], out3[:, 1], **colorize)\n",
    "plt.axis('equal');"
   ]
  },
  {
   "cell_type": "markdown",
   "metadata": {},
   "source": [
    "This is essentially the goal of a manifold learning estimator: given high-dimensional embedded data, it seeks a low-dimensional representation of the data that preserves certain relationships within the data.\n",
    "In the case of MDS, the quantity preserved is the distance between every pair of points."
   ]
  },
  {
   "cell_type": "markdown",
   "metadata": {},
   "source": [
    "## Nonlinear Embeddings: Where MDS Fails\n",
    "\n",
    "Our discussion thus far has considered *linear* embeddings, which essentially consist of rotations, translations, and scalings of data into higher-dimensional spaces.\n",
    "Where MDS breaks down is when the embedding is nonlinear—that is, when it goes beyond this simple set of operations.\n",
    "Consider the following embedding, which takes the input and contorts it into an \"S\" shape in three dimensions:"
   ]
  },
  {
   "cell_type": "code",
   "execution_count": null,
   "metadata": {
    "ExecuteTime": {
     "end_time": "2020-10-22T09:27:55.773766Z",
     "start_time": "2020-10-22T09:27:55.770310Z"
    }
   },
   "outputs": [],
   "source": [
    "def make_hello_s_curve(X):\n",
    "    t = (X[:, 0] - 2) * 0.75 * np.pi\n",
    "    x = np.sin(t)\n",
    "    y = X[:, 1]\n",
    "    z = np.sign(t) * (np.cos(t) - 1)\n",
    "    return np.vstack((x, y, z)).T\n",
    "\n",
    "XS = make_hello_s_curve(X)"
   ]
  },
  {
   "cell_type": "markdown",
   "metadata": {},
   "source": [
    "This is again three-dimensional data, but we can see that the embedding is much more complicated:"
   ]
  },
  {
   "cell_type": "code",
   "execution_count": null,
   "metadata": {
    "ExecuteTime": {
     "end_time": "2020-10-22T09:28:04.369086Z",
     "start_time": "2020-10-22T09:28:04.331249Z"
    }
   },
   "outputs": [],
   "source": [
    "%matplotlib notebook\n",
    "from mpl_toolkits import mplot3d\n",
    "ax = plt.axes(projection='3d')\n",
    "ax.scatter3D(XS[:, 0], XS[:, 1], XS[:, 2],\n",
    "             **colorize);"
   ]
  },
  {
   "cell_type": "markdown",
   "metadata": {},
   "source": [
    "The fundamental relationships between the data points are still there, but this time the data has been transformed in a nonlinear way: it has been wrapped-up into the shape of an \"S.\"\n",
    "\n",
    "If we try a simple MDS algorithm on this data, it is not able to \"unwrap\" this nonlinear embedding, and we lose track of the fundamental relationships in the embedded manifold:"
   ]
  },
  {
   "cell_type": "code",
   "execution_count": null,
   "metadata": {
    "ExecuteTime": {
     "end_time": "2020-10-22T09:28:15.604206Z",
     "start_time": "2020-10-22T09:28:11.307070Z"
    }
   },
   "outputs": [],
   "source": [
    "%matplotlib inline\n",
    "from sklearn.manifold import MDS\n",
    "model = MDS(n_components=2, random_state=2)\n",
    "outS = model.fit_transform(XS)\n",
    "plt.scatter(outS[:, 0], outS[:, 1], **colorize)\n",
    "plt.axis('equal');"
   ]
  },
  {
   "cell_type": "markdown",
   "metadata": {},
   "source": [
    "The best two-dimensional *linear* embeding does not unwrap the S-curve, but instead throws out the original y-axis."
   ]
  },
  {
   "cell_type": "markdown",
   "metadata": {},
   "source": [
    "## Nonlinear Manifolds: Locally Linear Embedding\n",
    "\n",
    "How can we move forward here? Stepping back, we can see that the source of the problem is that MDS tries to preserve distances between faraway points when constructing the embedding.\n",
    "But what if we instead modified the algorithm such that it only preserves distances between nearby points?\n",
    "The resulting embedding would be closer to what we want.\n",
    "\n",
    "Visually, we can think of it as illustrated in this figure:"
   ]
  },
  {
   "cell_type": "markdown",
   "metadata": {},
   "source": [
    "![(LLE vs MDS linkages)](figures/05.10-LLE-vs-MDS.png)\n",
    "[figure source in Appendix](06.00-Figure-Code.ipynb#LLE-vs-MDS-Linkages)"
   ]
  },
  {
   "cell_type": "markdown",
   "metadata": {},
   "source": [
    "Here each faint line represents a distance that should be preserved in the embedding.\n",
    "On the left is a representation of the model used by MDS: it tries to preserve the distances between each pair of points in the dataset.\n",
    "On the right is a representation of the model used by a manifold learning algorithm called locally linear embedding (LLE): rather than preserving *all* distances, it instead tries to preserve only the distances between *neighboring points*: in this case, the nearest 100 neighbors of each point.\n",
    "\n",
    "Thinking about the left panel, we can see why MDS fails: there is no way to flatten this data while adequately preserving the length of every line drawn between the two points.\n",
    "For the right panel, on the other hand, things look a bit more optimistic. We could imagine unrolling the data in a way that keeps the lengths of the lines approximately the same.\n",
    "This is precisely what LLE does, through a global optimization of a cost function reflecting this logic.\n",
    "\n",
    "LLE comes in a number of flavors; here we will use the *modified LLE* algorithm to recover the embedded two-dimensional manifold.\n",
    "In general, modified LLE does better than other flavors of the algorithm at recovering well-defined manifolds with very little distortion:"
   ]
  },
  {
   "cell_type": "code",
   "execution_count": null,
   "metadata": {
    "ExecuteTime": {
     "end_time": "2020-10-22T09:28:17.333958Z",
     "start_time": "2020-10-22T09:28:16.388380Z"
    }
   },
   "outputs": [],
   "source": [
    "from sklearn.manifold import LocallyLinearEmbedding\n",
    "model = LocallyLinearEmbedding(n_neighbors=100, n_components=2, method='modified',\n",
    "                               eigen_solver='dense')\n",
    "out = model.fit_transform(XS)\n",
    "\n",
    "fig, ax = plt.subplots()\n",
    "ax.scatter(out[:, 0], out[:, 1], **colorize)\n",
    "ax.set_ylim(0.15, -0.15);"
   ]
  },
  {
   "cell_type": "markdown",
   "metadata": {},
   "source": [
    "The result remains somewhat distorted compared to our original manifold, but captures the essential relationships in the data!"
   ]
  },
  {
   "cell_type": "markdown",
   "metadata": {},
   "source": [
    "## Some Thoughts on Manifold Methods"
   ]
  },
  {
   "cell_type": "markdown",
   "metadata": {},
   "source": [
    "Though this story and motivation is compelling, in practice manifold learning techniques tend to be finicky enough that they are rarely used for anything more than simple qualitative visualization of high-dimensional data.\n",
    "\n",
    "The following are some of the particular challenges of manifold learning, which all contrast poorly with PCA:\n",
    "\n",
    "- In manifold learning, there is no good framework for handling missing data. In contrast, there are straightforward iterative approaches for missing data in PCA.\n",
    "- In manifold learning, the presence of noise in the data can \"short-circuit\" the manifold and drastically change the embedding. In contrast, PCA naturally filters noise from the most important components.\n",
    "- The manifold embedding result is generally highly dependent on the number of neighbors chosen, and there is generally no solid quantitative way to choose an optimal number of neighbors. In contrast, PCA does not involve such a choice.\n",
    "- In manifold learning, the globally optimal number of output dimensions is difficult to determine. In contrast, PCA lets you find the output dimension based on the explained variance.\n",
    "- In manifold learning, the meaning of the embedded dimensions is not always clear. In PCA, the principal components have a very clear meaning.\n",
    "- In manifold learning the computational expense of manifold methods scales as O[N^2] or O[N^3]. For PCA, there exist randomized approaches that are generally much faster (though see the [megaman](https://github.com/mmp2/megaman) package for some more scalable implementations of manifold learning).\n",
    "\n",
    "With all that on the table, the only clear advantage of manifold learning methods over PCA is their ability to preserve nonlinear relationships in the data; for that reason I tend to explore data with manifold methods only after first exploring them with PCA.\n",
    "\n",
    "Scikit-Learn implements several common variants of manifold learning beyond Isomap and LLE: the Scikit-Learn documentation has a [nice discussion and comparison of them](http://scikit-learn.org/stable/modules/manifold.html).\n",
    "Based on my own experience, I would give the following recommendations:\n",
    "\n",
    "- For toy problems such as the S-curve we saw before, locally linear embedding (LLE) and its variants (especially *modified LLE*), perform very well. This is implemented in ``sklearn.manifold.LocallyLinearEmbedding``.\n",
    "- For high-dimensional data from real-world sources, LLE often produces poor results, and isometric mapping (IsoMap) seems to generally lead to more meaningful embeddings. This is implemented in ``sklearn.manifold.Isomap``\n",
    "- For data that is highly clustered, *t-distributed stochastic neighbor embedding* (t-SNE) seems to work very well, though can be very slow compared to other methods. This is implemented in ``sklearn.manifold.TSNE``.\n",
    "\n",
    "If you're interested in getting a feel for how these work, I'd suggest running each of the methods on the data in this section."
   ]
  },
  {
   "cell_type": "markdown",
   "metadata": {},
   "source": [
    "## Example: Isomap on Faces\n",
    "\n",
    "One place manifold learning is often used is in understanding the relationship between high-dimensional data points.\n",
    "A common case of high-dimensional data is images: for example, a set of images with 1,000 pixels each can be thought of as a collection of points in 1,000 dimensions – the brightness of each pixel in each image defines the coordinate in that dimension.\n",
    "\n",
    "Here let's apply Isomap on some faces data.\n",
    "We will use the Labeled Faces in the Wild dataset, which we previously saw in [In-Depth: Support Vector Machines](05.07-Support-Vector-Machines.ipynb) and [In Depth: Principal Component Analysis](05.09-Principal-Component-Analysis.ipynb).\n",
    "Running this command will download the data and cache it in your home directory for later use:"
   ]
  },
  {
   "cell_type": "code",
   "execution_count": null,
   "metadata": {
    "ExecuteTime": {
     "end_time": "2020-10-22T09:28:20.157514Z",
     "start_time": "2020-10-22T09:28:19.923426Z"
    }
   },
   "outputs": [],
   "source": [
    "from sklearn.datasets import fetch_lfw_people\n",
    "faces = fetch_lfw_people(min_faces_per_person=30)\n",
    "faces.data.shape"
   ]
  },
  {
   "cell_type": "markdown",
   "metadata": {},
   "source": [
    "We have 2,370 images, each with 2,914 pixels.\n",
    "In other words, the images can be thought of as data points in a 2,914-dimensional space!\n",
    "\n",
    "Let's quickly visualize several of these images to see what we're working with:"
   ]
  },
  {
   "cell_type": "code",
   "execution_count": null,
   "metadata": {
    "ExecuteTime": {
     "end_time": "2020-10-22T09:28:22.062019Z",
     "start_time": "2020-10-22T09:28:21.103712Z"
    }
   },
   "outputs": [],
   "source": [
    "fig, ax = plt.subplots(4, 8, subplot_kw=dict(xticks=[], yticks=[]))\n",
    "for i, axi in enumerate(ax.flat):\n",
    "    _  = axi.imshow(faces.images[i], cmap='gray')"
   ]
  },
  {
   "cell_type": "markdown",
   "metadata": {},
   "source": [
    "We would like to plot a low-dimensional embedding of the 2,914-dimensional data to learn the fundamental relationships between the images.\n",
    "One useful way to start is to compute a PCA, and examine the explained variance ratio, which will give us an idea of how many linear features are required to describe the data:"
   ]
  },
  {
   "cell_type": "code",
   "execution_count": null,
   "metadata": {
    "ExecuteTime": {
     "end_time": "2020-10-22T09:28:24.086788Z",
     "start_time": "2020-10-22T09:28:23.456238Z"
    }
   },
   "outputs": [],
   "source": [
    "from sklearn.decomposition import PCA\n",
    "model = PCA(150, svd_solver='randomized').fit(faces.data)\n",
    "plt.plot(np.cumsum(model.explained_variance_ratio_))\n",
    "plt.xlabel('n components')\n",
    "plt.ylabel('cumulative variance');"
   ]
  },
  {
   "cell_type": "markdown",
   "metadata": {},
   "source": [
    "We see that for this data, nearly 100 components are required to preserve 90% of the variance: this tells us that the data is intrinsically very high dimensional—it can't be described linearly with just a few components.\n",
    "\n",
    "When this is the case, nonlinear manifold embeddings like LLE and Isomap can be helpful.\n",
    "We can compute an Isomap embedding on these faces using the same pattern shown before:"
   ]
  },
  {
   "cell_type": "code",
   "execution_count": null,
   "metadata": {
    "ExecuteTime": {
     "end_time": "2020-10-22T09:28:56.767558Z",
     "start_time": "2020-10-22T09:28:26.154104Z"
    }
   },
   "outputs": [],
   "source": [
    "from sklearn.manifold import Isomap\n",
    "model = Isomap(n_components=2)\n",
    "proj = model.fit_transform(faces.data)\n",
    "proj.shape"
   ]
  },
  {
   "cell_type": "code",
   "execution_count": null,
   "metadata": {
    "ExecuteTime": {
     "end_time": "2020-10-22T09:28:57.637689Z",
     "start_time": "2020-10-22T09:28:57.633764Z"
    }
   },
   "outputs": [],
   "source": [
    "proj.max(0)"
   ]
  },
  {
   "cell_type": "markdown",
   "metadata": {},
   "source": [
    "The output is a two-dimensional projection of all the input images.\n",
    "To get a better idea of what the projection tells us, let's define a function that will output image thumbnails at the locations of the projections:"
   ]
  },
  {
   "cell_type": "code",
   "execution_count": null,
   "metadata": {
    "ExecuteTime": {
     "end_time": "2020-10-22T09:28:58.775426Z",
     "start_time": "2020-10-22T09:28:58.769492Z"
    }
   },
   "outputs": [],
   "source": [
    "from matplotlib import offsetbox\n",
    "\n",
    "def plot_components(data, model, images=None, ax=None,\n",
    "                    thumb_frac=0.05, cmap='gray'):\n",
    "    \n",
    "    # create or get axis\n",
    "    ax = ax or plt.gca()\n",
    "    \n",
    "    # fit the projection in\n",
    "    proj = model.fit_transform(data)\n",
    "    ax.plot(proj[:, 0], proj[:, 1], '.k')\n",
    "    \n",
    "    if images is not None:\n",
    "        # get the square of maximum size range (x or y-axis)\n",
    "        # that is the pixel-count of the square projection\n",
    "        # multiplied with thumb_frac it is the pixelsize of thumbnails\n",
    "        min_dist_2 = (thumb_frac * max(proj.max(0) - proj.min(0))) ** 2\n",
    "        shown_images = np.array([2 * proj.max(0)])\n",
    "        # cycle through pictures\n",
    "        for i in range(data.shape[0]):\n",
    "            dist = np.sum((proj[i] - shown_images) ** 2, 1)\n",
    "            if np.min(dist) < min_dist_2:\n",
    "                # don't show points that are too close\n",
    "                continue\n",
    "            shown_images = np.vstack([shown_images, proj[i]])\n",
    "            imagebox = offsetbox.AnnotationBbox(\n",
    "                offsetbox.OffsetImage(images[i], cmap=cmap),\n",
    "                                      proj[i])\n",
    "            ax.add_artist(imagebox)"
   ]
  },
  {
   "cell_type": "markdown",
   "metadata": {},
   "source": [
    "Calling this function now, we see the result:"
   ]
  },
  {
   "cell_type": "code",
   "execution_count": null,
   "metadata": {
    "ExecuteTime": {
     "end_time": "2020-10-22T09:29:32.126946Z",
     "start_time": "2020-10-22T09:29:00.017748Z"
    }
   },
   "outputs": [],
   "source": [
    "fig, ax = plt.subplots(figsize=(15, 15))\n",
    "plot_components(faces.data,\n",
    "                model=Isomap(n_components=2),\n",
    "                images=faces.images[:, ::2, ::2])"
   ]
  },
  {
   "cell_type": "markdown",
   "metadata": {},
   "source": [
    "The result is interesting: the first two Isomap dimensions seem to describe global image features: the overall darkness or lightness of the image from left to right, and the general orientation of the face from bottom to top.\n",
    "This gives us a nice visual indication of some of the fundamental features in our data.\n",
    "\n",
    "We could then go on to classify this data (perhaps using manifold features as inputs to the classification algorithm) as we did in [In-Depth: Support Vector Machines](05.07-Support-Vector-Machines.ipynb)."
   ]
  },
  {
   "cell_type": "markdown",
   "metadata": {},
   "source": [
    "## Example: Visualizing Structure in Digits\n",
    "\n",
    "As another example of using manifold learning for visualization, let's take a look at the MNIST handwritten digits set.\n",
    "This data is similar to the digits we saw in [In-Depth: Decision Trees and Random Forests](05.08-Random-Forests.ipynb), but with many more pixels per image.\n",
    "It can be downloaded from http://mldata.org/ with the Scikit-Learn utility:"
   ]
  },
  {
   "cell_type": "code",
   "execution_count": null,
   "metadata": {
    "ExecuteTime": {
     "end_time": "2020-10-22T09:30:19.393820Z",
     "start_time": "2020-10-22T09:30:02.447364Z"
    }
   },
   "outputs": [],
   "source": [
    "from sklearn.datasets import fetch_openml\n",
    "mnist = fetch_openml('mnist_784', version=1)\n",
    "mnist.data.shape\n",
    "# data is stored as pd and has to be converted to np array\n",
    "mnist.data = mnist.data.to_numpy()"
   ]
  },
  {
   "cell_type": "markdown",
   "metadata": {},
   "source": [
    "This consists of 70,000 images, each with 784 pixels (i.e. the images are 28×28).\n",
    "As before, we can take a look at the first few images:"
   ]
  },
  {
   "cell_type": "code",
   "execution_count": null,
   "metadata": {
    "ExecuteTime": {
     "end_time": "2020-10-22T09:30:21.850074Z",
     "start_time": "2020-10-22T09:30:20.503364Z"
    }
   },
   "outputs": [],
   "source": [
    "fig, ax = plt.subplots(6, 8, subplot_kw=dict(xticks=[], yticks=[]))\n",
    "for i, axi in enumerate(ax.flat):\n",
    "    _ = axi.imshow(mnist.data[1250 * i].reshape(28, 28), cmap='gray_r')"
   ]
  },
  {
   "cell_type": "markdown",
   "metadata": {},
   "source": [
    "This gives us an idea of the variety of handwriting styles in the dataset.\n",
    "\n",
    "Let's compute a manifold learning projection across the data.\n",
    "For speed here, we'll only use 1/30 of the data, which is about ~2000 points\n",
    "(because of the relatively poor scaling of manifold learning, I find that a few thousand samples is a good number to start with for relatively quick exploration before moving to a full calculation):"
   ]
  },
  {
   "cell_type": "code",
   "execution_count": null,
   "metadata": {
    "ExecuteTime": {
     "end_time": "2020-10-22T09:30:36.669836Z",
     "start_time": "2020-10-22T09:30:32.720400Z"
    }
   },
   "outputs": [],
   "source": [
    "# use only 1/30 of the data: full dataset takes a long time!\n",
    "data = mnist.data[::30]\n",
    "target = mnist.target[::30]\n",
    "\n",
    "model = Isomap(n_components=2, n_jobs=8)\n",
    "proj = model.fit_transform(data)\n",
    "\n",
    "plt.scatter(proj[:, 0], proj[:, 1], s=1, alpha=0.5, c=target.astype(int), cmap=plt.cm.get_cmap('jet', 10))\n",
    "plt.colorbar(ticks=range(10))\n",
    "plt.clim(-0.5, 9.5);"
   ]
  },
  {
   "cell_type": "markdown",
   "metadata": {},
   "source": [
    "### here is a plot of half of the data"
   ]
  },
  {
   "cell_type": "markdown",
   "metadata": {},
   "source": [
    "+ code in cluster\n",
    "\n",
    "`import pandas as pd\n",
    "import from sklearn.datasets import fetch_openml\n",
    "mnist = fetch_openml('mnist_784', version=1)\n",
    "data = mnist.data[::2]\n",
    "target = mnist.target[::2]\n",
    "from sklearn.manifold import Isomap\n",
    "model = Isomap(n_components=2, n_jobs=20)\n",
    "proj = model.fit_transform(data)\n",
    "pd.DataFrame(proj).to_csv('minst_2d.csv', sep='\\t', index=False)`\n"
   ]
  },
  {
   "cell_type": "code",
   "execution_count": null,
   "metadata": {
    "ExecuteTime": {
     "end_time": "2020-10-22T09:32:46.163947Z",
     "start_time": "2020-10-22T09:32:45.239199Z"
    }
   },
   "outputs": [],
   "source": [
    "target = mnist.target[::2]\n",
    "proj = pd.read_csv(\"../data/minst_2d.csv\", sep='\\t').iloc[:,1:].values\n",
    "plt.scatter(proj[:, 0], proj[:, 1], s=1, alpha=0.5, c=target.astype(int), cmap=plt.cm.get_cmap('jet', 10))\n",
    "plt.colorbar(ticks=range(10))\n",
    "plt.clim(-0.5, 9.5);"
   ]
  },
  {
   "cell_type": "code",
   "execution_count": null,
   "metadata": {
    "ExecuteTime": {
     "end_time": "2020-10-22T09:34:12.404126Z",
     "start_time": "2020-10-22T09:34:11.517572Z"
    }
   },
   "outputs": [],
   "source": [
    "proj_3d = pd.read_csv(\"../data/minst_3d.csv\", sep='\\t').values\n",
    "proj_3d\n",
    "plt.scatter(proj_3d[:, 0], proj_3d[:, 1], s=1, alpha=0.5, c=target.astype(int), cmap=plt.cm.get_cmap('jet', 10))\n",
    "plt.colorbar(ticks=range(10))\n",
    "plt.clim(-0.5, 9.5);"
   ]
  },
  {
   "cell_type": "markdown",
   "metadata": {},
   "source": [
    "### here is a plot of half of the data projected into 3d"
   ]
  },
  {
   "cell_type": "code",
   "execution_count": null,
   "metadata": {
    "ExecuteTime": {
     "end_time": "2020-10-22T09:43:51.903001Z",
     "start_time": "2020-10-22T09:43:51.780106Z"
    }
   },
   "outputs": [],
   "source": [
    "%matplotlib notebook\n",
    "from mpl_toolkits import mplot3d\n",
    "proj_3d = pd.read_csv(\"../data/minst_3d.csv\", sep='\\t').values\n",
    "\n",
    "fig = plt.figure(figsize=(10,10))\n",
    "ax = fig.gca(projection='3d')\n",
    "mapp = ax.scatter3D(proj_3d[:, 0], proj_3d[:, 1], proj_3d[:, 2],\n",
    "             s=.5, alpha=0.3, c=target.astype(int), cmap=plt.cm.get_cmap('jet', 10));\n",
    "fig.colorbar(mapp, ticks=range(10));"
   ]
  },
  {
   "cell_type": "markdown",
   "metadata": {},
   "source": [
    "The resulting scatter plot shows some of the relationships between the data points, but is a bit crowded.\n",
    "We can gain more insight by looking at just a single number at a time:"
   ]
  },
  {
   "cell_type": "code",
   "execution_count": null,
   "metadata": {},
   "outputs": [],
   "source": [
    "from sklearn.manifold import Isomap\n",
    "\n",
    "# Choose 1/4 of the \"1\" digits to project\n",
    "data = mnist.data[mnist.target == '1'][::4]\n",
    "\n",
    "fig, ax = plt.subplots(figsize=(10, 10))\n",
    "model = Isomap(n_neighbors=5, n_components=2, eigen_solver='dense')\n",
    "plot_components(data, model, images=data.reshape((-1, 28, 28)),\n",
    "                ax=ax, thumb_frac=0.05, cmap='gray_r')"
   ]
  },
  {
   "cell_type": "markdown",
   "metadata": {},
   "source": [
    "The result gives you an idea of the variety of forms that the number \"1\" can take within the dataset.\n",
    "The data lies along a broad curve in the projected space, which appears to trace the orientation of the digit.\n",
    "As you move up the plot, you find ones that have hats and/or bases, though these are very sparse within the dataset.\n",
    "The projection lets us identify outliers that have data issues: for example, pieces of the neighboring digits that snuck into the extracted images.\n",
    "\n",
    "Now, this in itself may not be useful for the task of classifying digits, but it does help us get an understanding of the data, and may give us ideas about how to move forward, such as how we might want to preprocess the data before building a classification pipeline."
   ]
  },
  {
   "cell_type": "markdown",
   "metadata": {},
   "source": [
    "<!--NAVIGATION-->\n",
    "< [In Depth: Principal Component Analysis](05.09-Principal-Component-Analysis.ipynb) | [Contents](Index.ipynb) | [In Depth: k-Means Clustering](05.11-K-Means.ipynb) >\n",
    "\n",
    "<a href=\"https://colab.research.google.com/github/jakevdp/PythonDataScienceHandbook/blob/master/notebooks/05.10-Manifold-Learning.ipynb\"><img align=\"left\" src=\"https://colab.research.google.com/assets/colab-badge.svg\" alt=\"Open in Colab\" title=\"Open and Execute in Google Colaboratory\"></a>\n"
   ]
  }
 ],
 "metadata": {
  "anaconda-cloud": {},
  "kernelspec": {
   "display_name": "Python 3 (ipykernel)",
   "language": "python",
   "name": "python3"
  },
  "language_info": {
   "codemirror_mode": {
    "name": "ipython",
    "version": 3
   },
   "file_extension": ".py",
   "mimetype": "text/x-python",
   "name": "python",
   "nbconvert_exporter": "python",
   "pygments_lexer": "ipython3",
   "version": "3.10.1"
  },
  "varInspector": {
   "cols": {
    "lenName": 16,
    "lenType": 16,
    "lenVar": 40
   },
   "kernels_config": {
    "python": {
     "delete_cmd_postfix": "",
     "delete_cmd_prefix": "del ",
     "library": "var_list.py",
     "varRefreshCmd": "print(var_dic_list())"
    },
    "r": {
     "delete_cmd_postfix": ") ",
     "delete_cmd_prefix": "rm(",
     "library": "var_list.r",
     "varRefreshCmd": "cat(var_dic_list()) "
    }
   },
   "types_to_exclude": [
    "module",
    "function",
    "builtin_function_or_method",
    "instance",
    "_Feature"
   ],
   "window_display": false
  }
 },
 "nbformat": 4,
 "nbformat_minor": 1
}
